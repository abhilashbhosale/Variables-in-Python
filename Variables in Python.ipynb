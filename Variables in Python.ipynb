{
 "cells": [
  {
   "cell_type": "markdown",
   "id": "747a787a-fa4c-4011-95fb-09a79a7280d5",
   "metadata": {},
   "source": [
    "## Variables in Python"
   ]
  },
  {
   "cell_type": "code",
   "execution_count": 3,
   "id": "0eb20c43-af04-42a2-a113-72a731f46800",
   "metadata": {},
   "outputs": [
    {
     "data": {
      "text/plain": [
       "\"In Python, a variable is a name used to reference a value stored in memory. Variables are created when you assign a value to them using the assignment operator (=). Python is dynamically typed, so you don't need to declare the variable type explicitly—it is inferred from the value assigned.\""
      ]
     },
     "execution_count": 3,
     "metadata": {},
     "output_type": "execute_result"
    }
   ],
   "source": [
    "\"\"\"In Python, a variable is a name used to reference a value stored in memory. Variables are created when you assign a value to them using the assignment operator (=). Python is dynamically typed, so you don't need to declare the variable type explicitly—it is inferred from the value assigned.\"\"\""
   ]
  },
  {
   "cell_type": "code",
   "execution_count": 4,
   "id": "33cc4d8b-5ecf-4583-9d53-f99b2965a71c",
   "metadata": {},
   "outputs": [],
   "source": [
    "# variable names are case sensetive\n",
    "# variable name cant start with number (0-999)\n",
    "# variavles name must starrt with a letter or underscore(_)\n",
    "# variable name can only contain alphanumeric  and undeerscore(_)\n",
    "# eg  A-Z , a-z, 0-9, _"
   ]
  },
  {
   "cell_type": "markdown",
   "id": "8364fb01-e461-4b69-80b0-558fdcb1b86b",
   "metadata": {},
   "source": [
    "## \"since python is dynamically writtern language, you dont need to declaire datatype"
   ]
  },
  {
   "cell_type": "code",
   "execution_count": 8,
   "id": "bd9fa846-aad9-4d9b-af13-21dcc79c0a3a",
   "metadata": {},
   "outputs": [
    {
     "name": "stdout",
     "output_type": "stream",
     "text": [
      "James Bond\n"
     ]
    }
   ],
   "source": [
    "a = \"James\"\n",
    "b = \" Bond\"\n",
    "c = a+b\n",
    "\n",
    "print(c)"
   ]
  },
  {
   "cell_type": "code",
   "execution_count": 9,
   "id": "2f4d3f35-00d3-4172-ac14-6ad56a53e3cf",
   "metadata": {},
   "outputs": [
    {
     "name": "stdout",
     "output_type": "stream",
     "text": [
      "832\n"
     ]
    }
   ],
   "source": [
    "x = 13\n",
    "y = 64\n",
    "z = x*y\n",
    "\n",
    "print(z)"
   ]
  },
  {
   "cell_type": "code",
   "execution_count": 2,
   "id": "6769ba2b-1a1c-4fde-a585-801c5260e386",
   "metadata": {},
   "outputs": [
    {
     "name": "stdout",
     "output_type": "stream",
     "text": [
      "Abhilash Bhosale\n"
     ]
    }
   ],
   "source": [
    "fname = \"Abhilash\" \n",
    "lname = \"Bhosale\"\n",
    "\n",
    "full_name = (fname + \" \"+ lname)\n",
    "\n",
    "print(full_name)"
   ]
  },
  {
   "cell_type": "code",
   "execution_count": 4,
   "id": "85c5a77a-3c24-4542-bede-a2324a127179",
   "metadata": {},
   "outputs": [
    {
     "name": "stdout",
     "output_type": "stream",
     "text": [
      "India NCR Delhi Shri Narendra Modi Ji Yes Mrs. Draupadi Murmu Ji Rupee Tricolour Yes Army, Navy ,Air Force\n"
     ]
    }
   ],
   "source": [
    "country = \"India\"\n",
    "capital = \" NCR Delhi\"\n",
    "prime_minister = \" Shri Narendra Modi Ji\"\n",
    "UN_member = \" Yes\"\n",
    "president = \" Mrs. Draupadi Murmu Ji\"\n",
    "currency = \" Rupee\"\n",
    "flag = \" Tricolour\"\n",
    "nuclear_power = \" Yes\"\n",
    "defence = \" Army, Navy ,Air Force\"\n",
    "\n",
    "info_india = (country + capital + prime_minister +UN_member + president + currency + flag + nuclear_power + defence)\n",
    "\n",
    "print(info_india)\n"
   ]
  },
  {
   "cell_type": "code",
   "execution_count": null,
   "id": "ed0a68b8-fc2d-470c-acc3-9fb434931460",
   "metadata": {},
   "outputs": [],
   "source": []
  }
 ],
 "metadata": {
  "kernelspec": {
   "display_name": "Python 3 (ipykernel)",
   "language": "python",
   "name": "python3"
  },
  "language_info": {
   "codemirror_mode": {
    "name": "ipython",
    "version": 3
   },
   "file_extension": ".py",
   "mimetype": "text/x-python",
   "name": "python",
   "nbconvert_exporter": "python",
   "pygments_lexer": "ipython3",
   "version": "3.12.7"
  }
 },
 "nbformat": 4,
 "nbformat_minor": 5
}
